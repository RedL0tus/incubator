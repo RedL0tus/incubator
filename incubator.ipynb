{
 "cells": [
  {
   "cell_type": "code",
   "execution_count": 3,
   "id": "80adefed-44f2-4347-8de2-7f4d3c479228",
   "metadata": {},
   "outputs": [],
   "source": [
    "from incubator import box, incubator\n",
    "from viewscad import Renderer\n",
    "from typing import Dict\n",
    "\n",
    "renderer = Renderer()"
   ]
  },
  {
   "cell_type": "code",
   "execution_count": 92,
   "id": "8643cc2c-6f12-4128-b004-5f05b7d92871",
   "metadata": {},
   "outputs": [
    {
     "name": "stdout",
     "output_type": "stream",
     "text": [
      ">>> Safe zone padding: 11\n",
      ">>> Hole: radius=5.0, diameter=10\n",
      ">>> Width: 175, inner: 153, start: 15.0, padding: 4.0\n",
      ">>> Depth: 115, inner: 93, start: 15.0, padding: 4.0\n",
      ">>> Hole pattern: 10x6x2\n",
      ">>> Model generated\n"
     ]
    },
    {
     "name": "stderr",
     "output_type": "stream",
     "text": [
      "Geometries in cache: 29\n",
      "Geometry cache size in bytes: 232888\n",
      "CGAL Polyhedrons in cache: 4\n",
      "CGAL cache size in bytes: 19341568\n",
      "Total rendering time: 0:00:06.323\n",
      "Top level object is a 3D object:\n",
      "   Simple:        yes\n",
      "   Vertices:     2944\n",
      "   Halfedges:    9504\n",
      "   Edges:        4752\n",
      "   Halffacets:   3622\n",
      "   Facets:       1811\n",
      "   Volumes:         2\n"
     ]
    },
    {
     "data": {
      "application/vnd.jupyter.widget-view+json": {
       "model_id": "103876f8c092453788ddf9a0ca99a50e",
       "version_major": 2,
       "version_minor": 0
      },
      "text/plain": [
       "VBox(children=(HTML(value=''), Renderer(background='#cccc88', background_opacity=0.0, camera=PerspectiveCamera…"
      ]
     },
     "metadata": {},
     "output_type": "display_data"
    }
   ],
   "source": [
    "args: Dict = {\n",
    "    'width': 175,\n",
    "    'depth': 115,\n",
    "    'height': 75,\n",
    "    'thickness': 5,\n",
    "    'hole_distance': 5,\n",
    "    'hole_diameter': 10,\n",
    "}\n",
    "model = incubator(**args)\n",
    "print('>>> Model generated')\n",
    "renderer.render(model)"
   ]
  }
 ],
 "metadata": {
  "kernelspec": {
   "display_name": "Python 3 (ipykernel)",
   "language": "python",
   "name": "python3"
  },
  "language_info": {
   "codemirror_mode": {
    "name": "ipython",
    "version": 3
   },
   "file_extension": ".py",
   "mimetype": "text/x-python",
   "name": "python",
   "nbconvert_exporter": "python",
   "pygments_lexer": "ipython3",
   "version": "3.10.0"
  }
 },
 "nbformat": 4,
 "nbformat_minor": 5
}
